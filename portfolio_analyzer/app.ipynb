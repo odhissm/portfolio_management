{
 "cells": [
  {
   "cell_type": "code",
   "execution_count": 33,
   "id": "877b3aa6-c69b-4f06-bd54-ecff144a82d4",
   "metadata": {
    "extensions": {
     "jupyter_dashboards": {
      "version": 1,
      "views": {
       "grid_default": {},
       "report_default": {}
      }
     }
    }
   },
   "outputs": [],
   "source": [
    "import sqlite3\n",
    "import pandas as pd\n",
    "\n",
    "import os\n",
    "import requests\n",
    "import json\n",
    "import alpaca_trade_api as tradeapi\n",
    "import codecs\n",
    "import webbrowser\n",
    "import ipywidgets as widgets\n",
    "import hvplot.pandas\n",
    "\n",
    "import warnings\n",
    "warnings.filterwarnings('ignore')"
   ]
  },
  {
   "cell_type": "code",
   "execution_count": 34,
   "id": "1ef9bc2d-60b8-4536-a574-08a33b16342c",
   "metadata": {
    "extensions": {
     "jupyter_dashboards": {
      "version": 1,
      "views": {
       "grid_default": {},
       "report_default": {}
      }
     }
    }
   },
   "outputs": [],
   "source": [
    "from model import mvc_exceptions as mvc_exc\n",
    "\n",
    "from model import db_backend as db_bkend\n",
    "\n",
    "from dotenv import load_dotenv\n",
    "\n",
    "#from sqlalchemy import create_engine, inspect\n",
    "\n",
    "from IPython.display import display, clear_output"
   ]
  },
  {
   "cell_type": "code",
   "execution_count": 35,
   "id": "baa9c8f7-0049-4a17-b815-bc215359e4e0",
   "metadata": {
    "extensions": {
     "jupyter_dashboards": {
      "version": 1,
      "views": {
       "grid_default": {},
       "report_default": {}
      }
     }
    }
   },
   "outputs": [],
   "source": [
    "#!jupyter nbextension enable --py widgetsnbextension --sys-prefix\n",
    "#!jupyter serverextension enable voila --sys-prefix"
   ]
  },
  {
   "cell_type": "code",
   "execution_count": 36,
   "id": "379e056b-9331-4d90-bb10-ccc5df5a0be3",
   "metadata": {
    "extensions": {
     "jupyter_dashboards": {
      "version": 1,
      "views": {
       "grid_default": {},
       "report_default": {}
      }
     }
    }
   },
   "outputs": [],
   "source": [
    "#import environment variables\n",
    "load_dotenv()\n",
    "alpaca_api_key = os.getenv('ALPACA_API_KEY')\n",
    "alpaca_secret_key = os.getenv('ALPACA_SECRET_KEY')\n",
    "type(alpaca_api_key)\n",
    "    \n",
    "    \n",
    "#Create the Alpaca API object\n",
    "alpaca = tradeapi.REST(\n",
    "alpaca_api_key,\n",
    "alpaca_secret_key,\n",
    "api_version='v2')"
   ]
  },
  {
   "cell_type": "code",
   "execution_count": 37,
   "id": "866de0c7",
   "metadata": {
    "extensions": {
     "jupyter_dashboards": {
      "version": 1,
      "views": {
       "grid_default": {},
       "report_default": {}
      }
     }
    }
   },
   "outputs": [],
   "source": [
    "### Image Widget\n",
    "\n",
    "file = open(\"./resources/images/investment-firm.png\", \"rb\")\n",
    "image = file.read()\n",
    "\n",
    "image_headline = widgets.Image(\n",
    "                    value=image,\n",
    "                    format='png',\n",
    "                    #width='400',\n",
    "                    height= '5')\n",
    "\n",
    "label_headline = widgets.Label(\n",
    "    #value='Welcome to Three Amigos Investment Firm',\n",
    "    style={'description_width': 'initial'}\n",
    "\n",
    ")\n",
    "vbox_headline = widgets.VBox([image_headline, label_headline])\n",
    "\n",
    "#display(vbox_headline)"
   ]
  },
  {
   "cell_type": "code",
   "execution_count": 38,
   "id": "836e0497",
   "metadata": {},
   "outputs": [],
   "source": [
    "text_0 = widgets.HTML(value=\"<h1>Welcome to Three Amigos Investment Firm</h1>\")\n",
    "vbox_text = widgets.VBox([text_0])"
   ]
  },
  {
   "cell_type": "code",
   "execution_count": 39,
   "id": "55d527c7",
   "metadata": {
    "extensions": {
     "jupyter_dashboards": {
      "version": 1,
      "views": {
       "grid_default": {},
       "report_default": {}
      }
     }
    }
   },
   "outputs": [
    {
     "data": {
      "text/plain": [
       "'ARKK'"
      ]
     },
     "metadata": {},
     "output_type": "display_data"
    }
   ],
   "source": [
    "# widget for selecting the funds for review\n",
    "fund_to_review = widgets.Dropdown(\n",
    "    options=['ARKK', 'YOLO', 'MSOS', 'IVY'],\n",
    "    value='ARKK',\n",
    "    # description='Select the funds to review',\n",
    "    disabled=False,\n",
    ")\n",
    "\n",
    "display(fund_to_review.value)"
   ]
  },
  {
   "cell_type": "code",
   "execution_count": 40,
   "id": "e6413390-1db1-4196-86f9-bff94de56e06",
   "metadata": {
    "extensions": {
     "jupyter_dashboards": {
      "version": 1,
      "views": {
       "grid_default": {},
       "report_default": {}
      }
     }
    },
    "scrolled": true
   },
   "outputs": [
    {
     "data": {
      "text/html": [
       "<div>\n",
       "<style scoped>\n",
       "    .dataframe tbody tr th:only-of-type {\n",
       "        vertical-align: middle;\n",
       "    }\n",
       "\n",
       "    .dataframe tbody tr th {\n",
       "        vertical-align: top;\n",
       "    }\n",
       "\n",
       "    .dataframe thead th {\n",
       "        text-align: right;\n",
       "    }\n",
       "</style>\n",
       "<table border=\"1\" class=\"dataframe\">\n",
       "  <thead>\n",
       "    <tr style=\"text-align: right;\">\n",
       "      <th></th>\n",
       "      <th>ticker</th>\n",
       "      <th>weight</th>\n",
       "      <th>company</th>\n",
       "    </tr>\n",
       "  </thead>\n",
       "  <tbody>\n",
       "    <tr>\n",
       "      <th>0</th>\n",
       "      <td>TSLA</td>\n",
       "      <td>9.91</td>\n",
       "      <td>TESLA INC</td>\n",
       "    </tr>\n",
       "    <tr>\n",
       "      <th>1</th>\n",
       "      <td>TDOC</td>\n",
       "      <td>6.62</td>\n",
       "      <td>TELADOC HEALTH INC</td>\n",
       "    </tr>\n",
       "    <tr>\n",
       "      <th>2</th>\n",
       "      <td>U</td>\n",
       "      <td>6.29</td>\n",
       "      <td>UNITY SOFTWARE INC</td>\n",
       "    </tr>\n",
       "    <tr>\n",
       "      <th>3</th>\n",
       "      <td>COIN</td>\n",
       "      <td>6.27</td>\n",
       "      <td>COINBASE GLOBAL INC -CLASS A</td>\n",
       "    </tr>\n",
       "    <tr>\n",
       "      <th>4</th>\n",
       "      <td>ROKU</td>\n",
       "      <td>5.17</td>\n",
       "      <td>ROKU INC</td>\n",
       "    </tr>\n",
       "    <tr>\n",
       "      <th>5</th>\n",
       "      <td>ZM</td>\n",
       "      <td>5.00</td>\n",
       "      <td>ZOOM VIDEO COMMUNICATIONS-A</td>\n",
       "    </tr>\n",
       "    <tr>\n",
       "      <th>6</th>\n",
       "      <td>SPOT</td>\n",
       "      <td>4.14</td>\n",
       "      <td>SPOTIFY TECHNOLOGY SA</td>\n",
       "    </tr>\n",
       "    <tr>\n",
       "      <th>7</th>\n",
       "      <td>SHOP</td>\n",
       "      <td>4.11</td>\n",
       "      <td>SHOPIFY INC - CLASS A</td>\n",
       "    </tr>\n",
       "    <tr>\n",
       "      <th>8</th>\n",
       "      <td>SQ</td>\n",
       "      <td>3.59</td>\n",
       "      <td>SQUARE INC - A</td>\n",
       "    </tr>\n",
       "    <tr>\n",
       "      <th>9</th>\n",
       "      <td>TWLO</td>\n",
       "      <td>3.54</td>\n",
       "      <td>TWILIO INC - A</td>\n",
       "    </tr>\n",
       "    <tr>\n",
       "      <th>10</th>\n",
       "      <td>PATH</td>\n",
       "      <td>3.42</td>\n",
       "      <td>UIPATH INC - CLASS A</td>\n",
       "    </tr>\n",
       "    <tr>\n",
       "      <th>11</th>\n",
       "      <td>EXAS</td>\n",
       "      <td>3.19</td>\n",
       "      <td>EXACT SCIENCES CORP</td>\n",
       "    </tr>\n",
       "    <tr>\n",
       "      <th>12</th>\n",
       "      <td>NTLA</td>\n",
       "      <td>3.07</td>\n",
       "      <td>INTELLIA THERAPEUTICS INC</td>\n",
       "    </tr>\n",
       "    <tr>\n",
       "      <th>13</th>\n",
       "      <td>PLTR</td>\n",
       "      <td>2.89</td>\n",
       "      <td>PALANTIR TECHNOLOGIES INC-A</td>\n",
       "    </tr>\n",
       "    <tr>\n",
       "      <th>14</th>\n",
       "      <td>TWTR</td>\n",
       "      <td>2.58</td>\n",
       "      <td>TWITTER INC</td>\n",
       "    </tr>\n",
       "    <tr>\n",
       "      <th>15</th>\n",
       "      <td>CRSP</td>\n",
       "      <td>2.43</td>\n",
       "      <td>CRISPR THERAPEUTICS AG</td>\n",
       "    </tr>\n",
       "    <tr>\n",
       "      <th>16</th>\n",
       "      <td>DKNG</td>\n",
       "      <td>2.38</td>\n",
       "      <td>DRAFTKINGS INC - CL A</td>\n",
       "    </tr>\n",
       "    <tr>\n",
       "      <th>17</th>\n",
       "      <td>BEAM</td>\n",
       "      <td>2.36</td>\n",
       "      <td>BEAM THERAPEUTICS INC</td>\n",
       "    </tr>\n",
       "    <tr>\n",
       "      <th>18</th>\n",
       "      <td>HOOD</td>\n",
       "      <td>1.70</td>\n",
       "      <td>ROBINHOOD MARKETS INC - A</td>\n",
       "    </tr>\n",
       "    <tr>\n",
       "      <th>19</th>\n",
       "      <td>NVTA</td>\n",
       "      <td>1.65</td>\n",
       "      <td>INVITAE CORP</td>\n",
       "    </tr>\n",
       "    <tr>\n",
       "      <th>20</th>\n",
       "      <td>TXG</td>\n",
       "      <td>1.61</td>\n",
       "      <td>10X GENOMICS INC-CLASS A</td>\n",
       "    </tr>\n",
       "    <tr>\n",
       "      <th>21</th>\n",
       "      <td>FATE</td>\n",
       "      <td>1.58</td>\n",
       "      <td>FATE THERAPEUTICS INC</td>\n",
       "    </tr>\n",
       "    <tr>\n",
       "      <th>22</th>\n",
       "      <td>DOCU</td>\n",
       "      <td>1.51</td>\n",
       "      <td>DOCUSIGN INC</td>\n",
       "    </tr>\n",
       "    <tr>\n",
       "      <th>23</th>\n",
       "      <td>PD</td>\n",
       "      <td>1.38</td>\n",
       "      <td>PAGERDUTY INC</td>\n",
       "    </tr>\n",
       "    <tr>\n",
       "      <th>24</th>\n",
       "      <td>PACB</td>\n",
       "      <td>1.38</td>\n",
       "      <td>PACIFIC BIOSCIENCES OF CALIF</td>\n",
       "    </tr>\n",
       "    <tr>\n",
       "      <th>25</th>\n",
       "      <td>IRDM</td>\n",
       "      <td>1.37</td>\n",
       "      <td>IRIDIUM COMMUNICATIONS INC</td>\n",
       "    </tr>\n",
       "    <tr>\n",
       "      <th>26</th>\n",
       "      <td>TSP</td>\n",
       "      <td>1.36</td>\n",
       "      <td>TUSIMPLE HOLDINGS INC - A</td>\n",
       "    </tr>\n",
       "    <tr>\n",
       "      <th>27</th>\n",
       "      <td>DNA</td>\n",
       "      <td>1.24</td>\n",
       "      <td>GINKGO BIOWORKS HOLDINGS INC</td>\n",
       "    </tr>\n",
       "    <tr>\n",
       "      <th>28</th>\n",
       "      <td>VCYT</td>\n",
       "      <td>0.93</td>\n",
       "      <td>VERACYTE INC</td>\n",
       "    </tr>\n",
       "    <tr>\n",
       "      <th>29</th>\n",
       "      <td>SKLZ</td>\n",
       "      <td>0.88</td>\n",
       "      <td>SKILLZ INC</td>\n",
       "    </tr>\n",
       "    <tr>\n",
       "      <th>30</th>\n",
       "      <td>TWST</td>\n",
       "      <td>0.83</td>\n",
       "      <td>TWIST BIOSCIENCE CORP</td>\n",
       "    </tr>\n",
       "    <tr>\n",
       "      <th>31</th>\n",
       "      <td>SGFY</td>\n",
       "      <td>0.82</td>\n",
       "      <td>SIGNIFY HEALTH INC -CLASS A</td>\n",
       "    </tr>\n",
       "    <tr>\n",
       "      <th>32</th>\n",
       "      <td>EDIT</td>\n",
       "      <td>0.69</td>\n",
       "      <td>EDITAS MEDICINE INC</td>\n",
       "    </tr>\n",
       "    <tr>\n",
       "      <th>33</th>\n",
       "      <td>TWOU</td>\n",
       "      <td>0.69</td>\n",
       "      <td>2U INC</td>\n",
       "    </tr>\n",
       "    <tr>\n",
       "      <th>34</th>\n",
       "      <td>SSYS</td>\n",
       "      <td>0.58</td>\n",
       "      <td>STRATASYS LTD</td>\n",
       "    </tr>\n",
       "    <tr>\n",
       "      <th>35</th>\n",
       "      <td>TRMB</td>\n",
       "      <td>0.57</td>\n",
       "      <td>TRIMBLE INC</td>\n",
       "    </tr>\n",
       "    <tr>\n",
       "      <th>36</th>\n",
       "      <td>BLI</td>\n",
       "      <td>0.56</td>\n",
       "      <td>BERKELEY LIGHTS INC</td>\n",
       "    </tr>\n",
       "    <tr>\n",
       "      <th>37</th>\n",
       "      <td>IOVA</td>\n",
       "      <td>0.51</td>\n",
       "      <td>IOVANCE BIOTHERAPEUTICS INC</td>\n",
       "    </tr>\n",
       "    <tr>\n",
       "      <th>38</th>\n",
       "      <td>MTLS</td>\n",
       "      <td>0.38</td>\n",
       "      <td>MATERIALISE NV-ADR</td>\n",
       "    </tr>\n",
       "    <tr>\n",
       "      <th>39</th>\n",
       "      <td>CERS</td>\n",
       "      <td>0.35</td>\n",
       "      <td>CERUS CORP</td>\n",
       "    </tr>\n",
       "    <tr>\n",
       "      <th>40</th>\n",
       "      <td>DDD</td>\n",
       "      <td>0.26</td>\n",
       "      <td>3D SYSTEMS CORP</td>\n",
       "    </tr>\n",
       "    <tr>\n",
       "      <th>41</th>\n",
       "      <td>CGEN</td>\n",
       "      <td>0.14</td>\n",
       "      <td>COMPUGEN LTD</td>\n",
       "    </tr>\n",
       "    <tr>\n",
       "      <th>42</th>\n",
       "      <td>None</td>\n",
       "      <td>0.05</td>\n",
       "      <td>DREYFUS GOVT CASH MAN INS</td>\n",
       "    </tr>\n",
       "    <tr>\n",
       "      <th>43</th>\n",
       "      <td>Z</td>\n",
       "      <td>0.01</td>\n",
       "      <td>ZILLOW GROUP INC - C</td>\n",
       "    </tr>\n",
       "    <tr>\n",
       "      <th>44</th>\n",
       "      <td>PRLB</td>\n",
       "      <td>0.00</td>\n",
       "      <td>PROTO LABS INC</td>\n",
       "    </tr>\n",
       "  </tbody>\n",
       "</table>\n",
       "</div>"
      ],
      "text/plain": [
       "   ticker  weight                       company\n",
       "0    TSLA    9.91                     TESLA INC\n",
       "1    TDOC    6.62            TELADOC HEALTH INC\n",
       "2       U    6.29            UNITY SOFTWARE INC\n",
       "3    COIN    6.27  COINBASE GLOBAL INC -CLASS A\n",
       "4    ROKU    5.17                      ROKU INC\n",
       "5      ZM    5.00   ZOOM VIDEO COMMUNICATIONS-A\n",
       "6    SPOT    4.14         SPOTIFY TECHNOLOGY SA\n",
       "7    SHOP    4.11         SHOPIFY INC - CLASS A\n",
       "8      SQ    3.59                SQUARE INC - A\n",
       "9    TWLO    3.54                TWILIO INC - A\n",
       "10   PATH    3.42          UIPATH INC - CLASS A\n",
       "11   EXAS    3.19           EXACT SCIENCES CORP\n",
       "12   NTLA    3.07     INTELLIA THERAPEUTICS INC\n",
       "13   PLTR    2.89   PALANTIR TECHNOLOGIES INC-A\n",
       "14   TWTR    2.58                   TWITTER INC\n",
       "15   CRSP    2.43        CRISPR THERAPEUTICS AG\n",
       "16   DKNG    2.38         DRAFTKINGS INC - CL A\n",
       "17   BEAM    2.36         BEAM THERAPEUTICS INC\n",
       "18   HOOD    1.70     ROBINHOOD MARKETS INC - A\n",
       "19   NVTA    1.65                  INVITAE CORP\n",
       "20    TXG    1.61      10X GENOMICS INC-CLASS A\n",
       "21   FATE    1.58         FATE THERAPEUTICS INC\n",
       "22   DOCU    1.51                  DOCUSIGN INC\n",
       "23     PD    1.38                 PAGERDUTY INC\n",
       "24   PACB    1.38  PACIFIC BIOSCIENCES OF CALIF\n",
       "25   IRDM    1.37    IRIDIUM COMMUNICATIONS INC\n",
       "26    TSP    1.36     TUSIMPLE HOLDINGS INC - A\n",
       "27    DNA    1.24  GINKGO BIOWORKS HOLDINGS INC\n",
       "28   VCYT    0.93                  VERACYTE INC\n",
       "29   SKLZ    0.88                    SKILLZ INC\n",
       "30   TWST    0.83         TWIST BIOSCIENCE CORP\n",
       "31   SGFY    0.82   SIGNIFY HEALTH INC -CLASS A\n",
       "32   EDIT    0.69           EDITAS MEDICINE INC\n",
       "33   TWOU    0.69                        2U INC\n",
       "34   SSYS    0.58                 STRATASYS LTD\n",
       "35   TRMB    0.57                   TRIMBLE INC\n",
       "36    BLI    0.56           BERKELEY LIGHTS INC\n",
       "37   IOVA    0.51   IOVANCE BIOTHERAPEUTICS INC\n",
       "38   MTLS    0.38            MATERIALISE NV-ADR\n",
       "39   CERS    0.35                    CERUS CORP\n",
       "40    DDD    0.26               3D SYSTEMS CORP\n",
       "41   CGEN    0.14                  COMPUGEN LTD\n",
       "42   None    0.05     DREYFUS GOVT CASH MAN INS\n",
       "43      Z    0.01          ZILLOW GROUP INC - C\n",
       "44   PRLB    0.00                PROTO LABS INC"
      ]
     },
     "metadata": {},
     "output_type": "display_data"
    }
   ],
   "source": [
    "holdings_symbol =  fund_to_review.value  #We'll just stick to using  'ARKK' for now until we add other funds\n",
    "holdings_url = 'https://arkfunds.io/api/v2/etf/holdings' \n",
    "\n",
    "portfolio_holding_df = db_bkend.import_portfolio_holding(holdings_symbol, holdings_url)\n",
    "\n",
    "display(portfolio_holding_df)\n",
    "#display(portfolio_holding_df.tail())"
   ]
  },
  {
   "cell_type": "code",
   "execution_count": 41,
   "id": "3d4dcd07-46bc-4c26-a0b0-a2406acb522f",
   "metadata": {
    "extensions": {
     "jupyter_dashboards": {
      "version": 1,
      "views": {
       "grid_default": {},
       "report_default": {}
      }
     }
    }
   },
   "outputs": [
    {
     "name": "stdout",
     "output_type": "stream",
     "text": [
      "This is a new connection to in memory SQLite db...\n"
     ]
    }
   ],
   "source": [
    "# Review portfolio holdings and store to db\n",
    "\n",
    "# create a table for the funds using the dataframe of the funds imported\n",
    "# use the holding_symbol as the table name\n",
    "table_name = holdings_symbol\n",
    "\n",
    "#use the memory database engine/ connection\n",
    "conn = db_bkend.connect_to_db()\n",
    "\n",
    "#assign the portfolio_holding_df to table_data_df\n",
    "table_data_df = portfolio_holding_df\n",
    "\n",
    "#create the table from the dataframe\n",
    "db_bkend.create_table_from_dataframe(conn, table_name, table_data_df)\n",
    "\n"
   ]
  },
  {
   "cell_type": "code",
   "execution_count": 42,
   "id": "626eece7",
   "metadata": {
    "extensions": {
     "jupyter_dashboards": {
      "version": 1,
      "views": {
       "grid_default": {},
       "report_default": {}
      }
     }
    }
   },
   "outputs": [],
   "source": [
    "# You can create a second table of a portfolio of a list of different assets if desire\n",
    "table_name = 'Portfolio_01'\n",
    "\n",
    "db_bkend.create_table(conn, table_name)\n",
    "\n",
    "# update the table with the list of assets you want in the portfolio\n",
    "\n",
    "weight = 12.0\n",
    "company=\"ABC Inc\"\n",
    "ticker = \"TICK\"\n",
    "db_bkend.insert_one(conn, ticker, weight, company, table_name)"
   ]
  },
  {
   "cell_type": "code",
   "execution_count": 43,
   "id": "301a62df-0f51-4cce-9b3b-4fd987bcde91",
   "metadata": {
    "extensions": {
     "jupyter_dashboards": {
      "version": 1,
      "views": {
       "grid_default": {},
       "report_default": {}
      }
     }
    },
    "scrolled": true
   },
   "outputs": [
    {
     "data": {
      "text/plain": [
       "['ARKK', 'Portfolio01', 'sqlite_sequence']"
      ]
     },
     "metadata": {},
     "output_type": "display_data"
    }
   ],
   "source": [
    " #Check if table was created in the db\n",
    "table_names = conn.table_names()\n",
    "\n",
    "display(table_names)\n",
    "#inspector.get_table_names()\n",
    "#db_bkend.select_all(conn, 'ARKK')"
   ]
  },
  {
   "cell_type": "code",
   "execution_count": 44,
   "id": "2ec056ed-e9fa-4c0b-9211-07b0d8f71146",
   "metadata": {
    "extensions": {
     "jupyter_dashboards": {
      "version": 1,
      "views": {
       "grid_default": {},
       "report_default": {}
      }
     }
    }
   },
   "outputs": [],
   "source": [
    "#table_name = 'TABLE02'\n",
    "#weight = 12.0\n",
    "#company=\"ABC Inc\"\n",
    "#ticker = \"TICK\"\n",
    "#db_bkend.insert_one(conn, ticker, weight, company, table_name)\n",
    "\n",
    "#asset_ticker = ticker\n",
    "#db_bkend.select_one(conn, asset_ticker, table_name)"
   ]
  },
  {
   "cell_type": "code",
   "execution_count": 45,
   "id": "6b3240d8-a7d2-4b86-88d2-3d77804f4d7d",
   "metadata": {
    "extensions": {
     "jupyter_dashboards": {
      "version": 1,
      "views": {
       "grid_default": {},
       "report_default": {}
      }
     }
    }
   },
   "outputs": [],
   "source": [
    "db_bkend.update_one(conn, ticker, 15.0, company, table_name)"
   ]
  },
  {
   "cell_type": "code",
   "execution_count": 46,
   "id": "79d30c2b-6cd2-4108-82e2-d2485111250f",
   "metadata": {
    "extensions": {
     "jupyter_dashboards": {
      "version": 1,
      "views": {
       "grid_default": {},
       "report_default": {}
      }
     }
    },
    "scrolled": true
   },
   "outputs": [
    {
     "data": {
      "text/plain": [
       "[{'id': 1, 'ticker': 'TICK', 'weight': 15.0, 'company': 'ABC Inc'}]"
      ]
     },
     "execution_count": 46,
     "metadata": {},
     "output_type": "execute_result"
    }
   ],
   "source": [
    "db_bkend.select_all(conn, table_name='Portfolio01')"
   ]
  },
  {
   "cell_type": "code",
   "execution_count": 47,
   "id": "334c1fc8-8349-40f6-88a0-fff27b2bb5fb",
   "metadata": {
    "extensions": {
     "jupyter_dashboards": {
      "version": 1,
      "views": {
       "grid_default": {},
       "report_default": {}
      }
     }
    }
   },
   "outputs": [],
   "source": [
    "#db_bkend.delete_one(conn, 'TICK', table_name='TABLE02')\n",
    "#db_bkend.delete_one(conn, 'TICK', 'TABLE02')"
   ]
  },
  {
   "cell_type": "code",
   "execution_count": 48,
   "id": "5c6e7efd-c343-4cc9-a92f-23d6cb660b1c",
   "metadata": {
    "extensions": {
     "jupyter_dashboards": {
      "version": 1,
      "views": {
       "grid_default": {},
       "report_default": {}
      }
     }
    }
   },
   "outputs": [
    {
     "data": {
      "application/vnd.jupyter.widget-view+json": {
       "model_id": "d1b8ad2ef25e439eabde8e94c5bad8db",
       "version_major": 2,
       "version_minor": 0
      },
      "text/plain": [
       "VBox(children=(VBox(children=(Image(value=b'\\x89PNG\\r\\n\\x1a\\n\\x00\\x00\\x00\\rIHDR\\x00\\x00\\x02\\xd6\\x00\\x00\\x00\\xb…"
      ]
     },
     "metadata": {},
     "output_type": "display_data"
    }
   ],
   "source": [
    "\n",
    "\n",
    "#page = widgets.HBox([vbox_headline, vbox_headline])\n",
    "\n",
    "web_page = widgets.VBox([vbox_headline, text_0 ])\n",
    "\n",
    "display(web_page)"
   ]
  },
  {
   "cell_type": "code",
   "execution_count": 49,
   "id": "8eaac0fd",
   "metadata": {},
   "outputs": [
    {
     "data": {},
     "metadata": {},
     "output_type": "display_data"
    },
    {
     "data": {
      "application/vnd.holoviews_exec.v0+json": "",
      "text/html": [
       "<div id='1368'>\n",
       "\n",
       "\n",
       "\n",
       "\n",
       "\n",
       "  <div class=\"bk-root\" id=\"f6104b8d-c62c-49ad-a1ee-ebecf7ec1a86\" data-root-id=\"1368\"></div>\n",
       "</div>\n",
       "<script type=\"application/javascript\">(function(root) {\n",
       "  function embed_document(root) {\n",
       "    var docs_json = {\"fffefd70-7d43-463d-b314-be7bb9805f47\":{\"defs\":[{\"extends\":null,\"module\":null,\"name\":\"ReactiveHTML1\",\"overrides\":[],\"properties\":[]},{\"extends\":null,\"module\":null,\"name\":\"FlexBox1\",\"overrides\":[],\"properties\":[{\"default\":\"flex-start\",\"kind\":null,\"name\":\"align_content\"},{\"default\":\"flex-start\",\"kind\":null,\"name\":\"align_items\"},{\"default\":\"row\",\"kind\":null,\"name\":\"flex_direction\"},{\"default\":\"wrap\",\"kind\":null,\"name\":\"flex_wrap\"},{\"default\":\"flex-start\",\"kind\":null,\"name\":\"justify_content\"}]},{\"extends\":null,\"module\":null,\"name\":\"TemplateActions1\",\"overrides\":[],\"properties\":[{\"default\":0,\"kind\":null,\"name\":\"open_modal\"},{\"default\":0,\"kind\":null,\"name\":\"close_modal\"}]},{\"extends\":null,\"module\":null,\"name\":\"MaterialTemplateActions1\",\"overrides\":[],\"properties\":[{\"default\":0,\"kind\":null,\"name\":\"open_modal\"},{\"default\":0,\"kind\":null,\"name\":\"close_modal\"}]}],\"roots\":{\"references\":[{\"attributes\":{},\"id\":\"1393\",\"type\":\"ResetTool\"},{\"attributes\":{},\"id\":\"1389\",\"type\":\"SaveTool\"},{\"attributes\":{},\"id\":\"1413\",\"type\":\"CategoricalTickFormatter\"},{\"attributes\":{},\"id\":\"1425\",\"type\":\"UnionRenderers\"},{\"attributes\":{\"bottom\":{\"value\":0},\"fill_alpha\":{\"value\":1.0},\"fill_color\":{\"value\":\"#30a2da\"},\"hatch_alpha\":{\"value\":1.0},\"hatch_color\":{\"value\":\"#30a2da\"},\"hatch_scale\":{\"value\":12.0},\"hatch_weight\":{\"value\":1.0},\"line_alpha\":{\"value\":1.0},\"line_cap\":{\"value\":\"butt\"},\"line_color\":{\"value\":\"black\"},\"line_dash\":{\"value\":[]},\"line_dash_offset\":{\"value\":0},\"line_join\":{\"value\":\"bevel\"},\"line_width\":{\"value\":1},\"top\":{\"field\":\"weight\"},\"width\":{\"value\":0.8},\"x\":{\"field\":\"ticker\"}},\"id\":\"1411\",\"type\":\"VBar\"},{\"attributes\":{\"fill_alpha\":{\"value\":0.1},\"fill_color\":{\"value\":\"#30a2da\"},\"hatch_alpha\":{\"value\":0.1},\"hatch_color\":{\"value\":\"#30a2da\"},\"line_alpha\":{\"value\":0.1},\"top\":{\"field\":\"weight\"},\"width\":{\"value\":0.8},\"x\":{\"field\":\"ticker\"}},\"id\":\"1406\",\"type\":\"VBar\"},{\"attributes\":{},\"id\":\"1386\",\"type\":\"BasicTicker\"},{\"attributes\":{\"bottom_units\":\"screen\",\"coordinates\":null,\"fill_alpha\":0.5,\"fill_color\":\"lightgrey\",\"group\":null,\"left_units\":\"screen\",\"level\":\"overlay\",\"line_alpha\":1.0,\"line_color\":\"black\",\"line_dash\":[4,4],\"line_width\":2,\"right_units\":\"screen\",\"syncable\":false,\"top_units\":\"screen\"},\"id\":\"1394\",\"type\":\"BoxAnnotation\"},{\"attributes\":{\"axis_label\":\"weight\",\"coordinates\":null,\"formatter\":{\"id\":\"1416\"},\"group\":null,\"major_label_policy\":{\"id\":\"1417\"},\"ticker\":{\"id\":\"1386\"}},\"id\":\"1385\",\"type\":\"LinearAxis\"},{\"attributes\":{},\"id\":\"1390\",\"type\":\"PanTool\"},{\"attributes\":{\"below\":[{\"id\":\"1382\"}],\"center\":[{\"id\":\"1384\"},{\"id\":\"1388\"}],\"height\":300,\"left\":[{\"id\":\"1385\"}],\"margin\":[5,5,5,5],\"min_border_bottom\":10,\"min_border_left\":10,\"min_border_right\":10,\"min_border_top\":10,\"renderers\":[{\"id\":\"1409\"}],\"sizing_mode\":\"fixed\",\"title\":{\"id\":\"1374\"},\"toolbar\":{\"id\":\"1395\"},\"width\":700,\"x_range\":{\"id\":\"1370\"},\"x_scale\":{\"id\":\"1378\"},\"y_range\":{\"id\":\"1371\"},\"y_scale\":{\"id\":\"1380\"}},\"id\":\"1373\",\"subtype\":\"Figure\",\"type\":\"Plot\"},{\"attributes\":{\"end\":10.901,\"reset_end\":10.901,\"reset_start\":0.0,\"tags\":[[[\"weight\",\"weight\",null]]]},\"id\":\"1371\",\"type\":\"Range1d\"},{\"attributes\":{\"children\":[{\"id\":\"1369\"},{\"id\":\"1373\"},{\"id\":\"1438\"}],\"margin\":[0,0,0,0],\"name\":\"Row02081\",\"tags\":[\"embedded\"]},\"id\":\"1368\",\"type\":\"Row\"},{\"attributes\":{},\"id\":\"1378\",\"type\":\"CategoricalScale\"},{\"attributes\":{\"axis_label\":\"ticker\",\"coordinates\":null,\"formatter\":{\"id\":\"1413\"},\"group\":null,\"major_label_orientation\":1.5707963267948966,\"major_label_policy\":{\"id\":\"1414\"},\"ticker\":{\"id\":\"1383\"}},\"id\":\"1382\",\"type\":\"CategoricalAxis\"},{\"attributes\":{},\"id\":\"1417\",\"type\":\"AllLabels\"},{\"attributes\":{},\"id\":\"1403\",\"type\":\"Selection\"},{\"attributes\":{\"data\":{\"ticker\":[\"PRLB\",\"Z\",\"None\",\"CGEN\",\"DDD\",\"CERS\",\"MTLS\",\"IOVA\",\"BLI\",\"TRMB\",\"SSYS\",\"EDIT\",\"TWOU\",\"SGFY\",\"TWST\",\"SKLZ\",\"VCYT\",\"DNA\",\"TSP\",\"IRDM\",\"PACB\",\"PD\",\"DOCU\",\"FATE\",\"TXG\",\"NVTA\",\"HOOD\",\"BEAM\",\"DKNG\",\"CRSP\",\"TWTR\",\"PLTR\",\"NTLA\",\"EXAS\",\"PATH\",\"TWLO\",\"SQ\",\"SHOP\",\"SPOT\",\"ZM\",\"ROKU\",\"COIN\",\"U\",\"TDOC\",\"TSLA\"],\"weight\":{\"__ndarray__\":\"AAAAAAAAAAB7FK5H4XqEP5qZmZmZmak/7FG4HoXrwT+kcD0K16PQP2ZmZmZmZtY/UrgehetR2D9SuB6F61HgP+xRuB6F6+E/PQrXo3A94j+PwvUoXI/iPxSuR+F6FOY/FK5H4XoU5j89CtejcD3qP4/C9Shcj+o/KVyPwvUo7D/D9Shcj8LtP9ejcD0K1/M/w/UoXI/C9T/sUbgehev1PxSuR+F6FPY/FK5H4XoU9j8pXI/C9Sj4P0jhehSuR/k/w/UoXI/C+T9mZmZmZmb6PzMzMzMzM/s/4XoUrkfhAkAK16NwPQoDQHE9CtejcANApHA9CtejBEAfhetRuB4HQI/C9ShcjwhAhetRuB6FCUBcj8L1KFwLQFK4HoXrUQxAuB6F61G4DEBxPQrXo3AQQI/C9ShcjxBAAAAAAAAAFECuR+F6FK4UQBSuR+F6FBlAKVyPwvUoGUB7FK5H4XoaQFK4HoXr0SNA\",\"dtype\":\"float64\",\"order\":\"little\",\"shape\":[45]}},\"selected\":{\"id\":\"1403\"},\"selection_policy\":{\"id\":\"1425\"}},\"id\":\"1402\",\"type\":\"ColumnDataSource\"},{\"attributes\":{\"overlay\":{\"id\":\"1394\"}},\"id\":\"1392\",\"type\":\"BoxZoomTool\"},{\"attributes\":{},\"id\":\"1416\",\"type\":\"BasicTickFormatter\"},{\"attributes\":{},\"id\":\"1383\",\"type\":\"CategoricalTicker\"},{\"attributes\":{\"axis\":{\"id\":\"1382\"},\"coordinates\":null,\"grid_line_color\":null,\"group\":null,\"ticker\":null},\"id\":\"1384\",\"type\":\"Grid\"},{\"attributes\":{\"source\":{\"id\":\"1402\"}},\"id\":\"1410\",\"type\":\"CDSView\"},{\"attributes\":{\"factors\":[\"PRLB\",\"Z\",\"None\",\"CGEN\",\"DDD\",\"CERS\",\"MTLS\",\"IOVA\",\"BLI\",\"TRMB\",\"SSYS\",\"EDIT\",\"TWOU\",\"SGFY\",\"TWST\",\"SKLZ\",\"VCYT\",\"DNA\",\"TSP\",\"IRDM\",\"PACB\",\"PD\",\"DOCU\",\"FATE\",\"TXG\",\"NVTA\",\"HOOD\",\"BEAM\",\"DKNG\",\"CRSP\",\"TWTR\",\"PLTR\",\"NTLA\",\"EXAS\",\"PATH\",\"TWLO\",\"SQ\",\"SHOP\",\"SPOT\",\"ZM\",\"ROKU\",\"COIN\",\"U\",\"TDOC\",\"TSLA\"],\"tags\":[[[\"ticker\",\"ticker\",null]]]},\"id\":\"1370\",\"type\":\"FactorRange\"},{\"attributes\":{\"fill_color\":{\"value\":\"red\"},\"hatch_color\":{\"value\":\"red\"},\"line_color\":{\"value\":\"red\"},\"top\":{\"field\":\"weight\"},\"width\":{\"value\":0.8},\"x\":{\"field\":\"ticker\"}},\"id\":\"1407\",\"type\":\"VBar\"},{\"attributes\":{\"tools\":[{\"id\":\"1372\"},{\"id\":\"1389\"},{\"id\":\"1390\"},{\"id\":\"1391\"},{\"id\":\"1392\"},{\"id\":\"1393\"}]},\"id\":\"1395\",\"type\":\"Toolbar\"},{\"attributes\":{},\"id\":\"1414\",\"type\":\"AllLabels\"},{\"attributes\":{\"fill_alpha\":{\"value\":0.2},\"fill_color\":{\"value\":\"#30a2da\"},\"hatch_alpha\":{\"value\":0.2},\"hatch_color\":{\"value\":\"#30a2da\"},\"line_alpha\":{\"value\":0.2},\"top\":{\"field\":\"weight\"},\"width\":{\"value\":0.8},\"x\":{\"field\":\"ticker\"}},\"id\":\"1408\",\"type\":\"VBar\"},{\"attributes\":{\"margin\":[5,5,5,5],\"name\":\"HSpacer02085\",\"sizing_mode\":\"stretch_width\"},\"id\":\"1369\",\"type\":\"Spacer\"},{\"attributes\":{\"coordinates\":null,\"data_source\":{\"id\":\"1402\"},\"glyph\":{\"id\":\"1405\"},\"group\":null,\"hover_glyph\":{\"id\":\"1407\"},\"muted_glyph\":{\"id\":\"1408\"},\"nonselection_glyph\":{\"id\":\"1406\"},\"selection_glyph\":{\"id\":\"1411\"},\"view\":{\"id\":\"1410\"}},\"id\":\"1409\",\"type\":\"GlyphRenderer\"},{\"attributes\":{\"axis\":{\"id\":\"1385\"},\"coordinates\":null,\"dimension\":1,\"grid_line_color\":null,\"group\":null,\"ticker\":null},\"id\":\"1388\",\"type\":\"Grid\"},{\"attributes\":{\"fill_color\":{\"value\":\"#30a2da\"},\"hatch_color\":{\"value\":\"#30a2da\"},\"top\":{\"field\":\"weight\"},\"width\":{\"value\":0.8},\"x\":{\"field\":\"ticker\"}},\"id\":\"1405\",\"type\":\"VBar\"},{\"attributes\":{},\"id\":\"1391\",\"type\":\"WheelZoomTool\"},{\"attributes\":{\"margin\":[5,5,5,5],\"name\":\"HSpacer02086\",\"sizing_mode\":\"stretch_width\"},\"id\":\"1438\",\"type\":\"Spacer\"},{\"attributes\":{\"callback\":null,\"renderers\":[{\"id\":\"1409\"}],\"tags\":[\"hv_created\"],\"tooltips\":[[\"ticker\",\"@{ticker}\"],[\"weight\",\"@{weight}\"]]},\"id\":\"1372\",\"type\":\"HoverTool\"},{\"attributes\":{},\"id\":\"1380\",\"type\":\"LinearScale\"},{\"attributes\":{\"coordinates\":null,\"group\":null,\"text\":\"Stock tickers and their corresponding weights in the portfolio\",\"text_color\":\"black\",\"text_font_size\":\"12pt\"},\"id\":\"1374\",\"type\":\"Title\"}],\"root_ids\":[\"1368\"]},\"title\":\"Bokeh Application\",\"version\":\"2.4.1\"}};\n",
       "    var render_items = [{\"docid\":\"fffefd70-7d43-463d-b314-be7bb9805f47\",\"root_ids\":[\"1368\"],\"roots\":{\"1368\":\"f6104b8d-c62c-49ad-a1ee-ebecf7ec1a86\"}}];\n",
       "    root.Bokeh.embed.embed_items_notebook(docs_json, render_items);\n",
       "  }\n",
       "  if (root.Bokeh !== undefined && root.Bokeh.Panel !== undefined) {\n",
       "    embed_document(root);\n",
       "  } else {\n",
       "    var attempts = 0;\n",
       "    var timer = setInterval(function(root) {\n",
       "      if (root.Bokeh !== undefined && root.Bokeh.Panel !== undefined) {\n",
       "        clearInterval(timer);\n",
       "        embed_document(root);\n",
       "      } else if (document.readyState == \"complete\") {\n",
       "        attempts++;\n",
       "        if (attempts > 200) {\n",
       "          clearInterval(timer);\n",
       "          console.log(\"Bokeh: ERROR: Unable to run BokehJS code because BokehJS library is missing\");\n",
       "        }\n",
       "      }\n",
       "    }, 25, root)\n",
       "  }\n",
       "})(window);</script>"
      ],
      "text/plain": [
       ":Bars   [ticker]   (weight)"
      ]
     },
     "metadata": {
      "application/vnd.holoviews_exec.v0+json": {
       "id": "1368"
      }
     },
     "output_type": "display_data"
    }
   ],
   "source": [
    "# For our purposes we want to focus on the 'ticker','weight', and 'company' columns of the dataframe.  This will allow us to perform historical research with the Alpaca API as well as plot the weights of the portfolio stocks.\n",
    "initial_filtered_df = portfolio_holding_df[['ticker', 'weight', 'company']].sort_values(by = 'weight')\n",
    "\n",
    "\n",
    "# Note that for our Monte Carlo simulations, we will need to divide the weights column by 100 since the sum of weights for the simulation needs to be 1, and the dataframe is configured for the sum to be 100.\n",
    "\n",
    "initial_filtered_bar = initial_filtered_df.hvplot.bar(x='ticker', y = 'weight', hover_color = 'red', rot=90, title = 'Stock tickers and their corresponding weights in the portfolio')\n",
    "display(initial_filtered_bar)\n",
    "#display(initial_filtered_df)"
   ]
  },
  {
   "cell_type": "code",
   "execution_count": null,
   "id": "bfb6e98d",
   "metadata": {},
   "outputs": [],
   "source": []
  },
  {
   "cell_type": "code",
   "execution_count": null,
   "id": "6630de47",
   "metadata": {},
   "outputs": [],
   "source": []
  }
 ],
 "metadata": {
  "extensions": {
   "jupyter_dashboards": {
    "activeView": "grid_default",
    "version": 1,
    "views": {
     "grid_default": {
      "cellMargin": 10,
      "defaultCellHeight": 20,
      "maxColumns": 12,
      "name": "grid",
      "type": "grid"
     },
     "report_default": {
      "name": "report",
      "type": "report"
     }
    }
   }
  },
  "kernelspec": {
   "display_name": "dev",
   "language": "python",
   "name": "dev"
  },
  "language_info": {
   "codemirror_mode": {
    "name": "ipython",
    "version": 3
   },
   "file_extension": ".py",
   "mimetype": "text/x-python",
   "name": "python",
   "nbconvert_exporter": "python",
   "pygments_lexer": "ipython3",
   "version": "3.7.10"
  }
 },
 "nbformat": 4,
 "nbformat_minor": 5
}
